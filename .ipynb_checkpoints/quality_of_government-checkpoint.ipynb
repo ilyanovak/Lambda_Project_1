{
 "cells": [
  {
   "cell_type": "markdown",
   "metadata": {
    "colab_type": "text",
    "id": "view-in-github"
   },
   "source": [
    "<a href=\"https://colab.research.google.com/github/ilyanovak/Quality_Of_Government/blob/master/quality_of_government.ipynb\" target=\"_parent\"><img src=\"https://colab.research.google.com/assets/colab-badge.svg\" alt=\"Open In Colab\"/></a>"
   ]
  },
  {
   "cell_type": "markdown",
   "metadata": {
    "colab_type": "text",
    "id": "pLU7P1ND_BpI"
   },
   "source": [
    "1. Data imputation by year\n",
    "2. Divide Battle by population\n",
    "3. Do religion one hot coding\n",
    "4. Find racial dataset\n",
    "5. Battle descriprion\n",
    "6. Legal description\n",
    "7. Merge, the pca, then drop\n",
    "8. Test"
   ]
  },
  {
   "cell_type": "markdown",
   "metadata": {
    "colab_type": "text",
    "id": "tDivlqhl-OMq"
   },
   "source": [
    "# Import libraries"
   ]
  },
  {
   "cell_type": "code",
   "execution_count": 0,
   "metadata": {
    "colab": {},
    "colab_type": "code",
    "id": "jfWabmNlN3Cj"
   },
   "outputs": [],
   "source": [
    "import pandas as pd\n",
    "import numpy as np\n",
    "\n",
    "import plotly.express as px\n",
    "\n",
    "from sklearn.preprocessing import StandardScaler\n",
    "from sklearn.decomposition import PCA"
   ]
  },
  {
   "cell_type": "code",
   "execution_count": 0,
   "metadata": {
    "colab": {},
    "colab_type": "code",
    "id": "KSt0GfznXFWX"
   },
   "outputs": [],
   "source": [
    "def enable_plotly_in_cell():\n",
    "  import IPython\n",
    "  from plotly.offline import init_notebook_mode\n",
    "  display(IPython.core.display.HTML('''<script src=\"/static/components/requirejs/require.js\"></script>'''))\n",
    "  init_notebook_mode(connected=False)"
   ]
  },
  {
   "cell_type": "markdown",
   "metadata": {
    "colab_type": "text",
    "id": "Yxd7L_mZOF0g"
   },
   "source": [
    "# Create global variables"
   ]
  },
  {
   "cell_type": "code",
   "execution_count": 0,
   "metadata": {
    "colab": {},
    "colab_type": "code",
    "id": "jUsG5ffbtn3f"
   },
   "outputs": [],
   "source": [
    "# Data path to project's github repository\n",
    "\n",
    "DATA_PATH = 'https://raw.githubusercontent.com/ilyanovak/Lambda_Project_1/master/data/'"
   ]
  },
  {
   "cell_type": "code",
   "execution_count": 0,
   "metadata": {
    "colab": {},
    "colab_type": "code",
    "id": "OL1-8aClqoM_"
   },
   "outputs": [],
   "source": [
    "'''\n",
    "This is a list of country names to be dropped from datasets for one of several reasons:\n",
    "(1) They refer to geopolitic blocks rather than distinct countries\n",
    "(2) They are tiny nations\n",
    "(3) There is no data for them within the relevant time period, 1996-2018\n",
    "(4) They are not included in the quality of government dataset\n",
    "'''\n",
    "\n",
    "country_drop_list = [\n",
    "                'Arab World', 'Central Europe and the Baltics',\n",
    "                'Caribbean small states', 'East Asia & Pacific (excluding high income)'\n",
    "                'Early-demographic dividend', 'East Asia & Pacific',\n",
    "                'East Asia & Pacific (excluding high income)', 'Early-demographic dividend', \n",
    "                'Europe & Central Asia (excluding high income)',\n",
    "                'Europe & Central Asia', 'Euro area', 'European Union', \n",
    "                'Fragile and conflict affected situations', 'High income',\n",
    "                'Heavily indebted poor countries (HIPC)', 'IBRD only',\n",
    "                'IDA & IBRD total', 'IDA total', 'IDA blend', 'IDA only',\n",
    "                'Not classified', 'Latin America & Caribbean (excluding high income)',\n",
    "                'Latin America & Caribbean', 'Least developed countries: UN classification', \n",
    "                'Low income', 'Lower middle income',  'Low & middle income',\n",
    "                'Late-demographic dividend', 'Middle East & North Africa',\n",
    "                'Middle income', 'Middle East & North Africa (excluding high income)', \n",
    "                'North America', 'OECD members', 'Other small states', \n",
    "                'Pre-demographic dividend', 'Pacific island small states', \n",
    "                'Post-demographic dividend', 'South Asia', \n",
    "                'Sub-Saharan Africa (excluding high income)', 'Sub-Saharan Africa', \n",
    "                'Small states', 'East Asia & Pacific (IDA & IBRD countries)',\n",
    "                'Europe & Central Asia (IDA & IBRD countries)', \n",
    "                'Latin America & the Caribbean (IDA & IBRD countries)', \n",
    "                'Middle East & North Africa (IDA & IBRD countries)', \n",
    "                'South Asia (IDA & IBRD)', 'Sub-Saharan Africa (IDA & IBRD countries)', \n",
    "                'Upper middle income', 'World', 'Yugoslavia', 'USSR', \n",
    "                'German Democratic Republic', 'Republic of Vietnam', 'Yemen PDR', \n",
    "                'Czechoslovakia', 'Soviet Union','Cook Islands', 'Niue', \n",
    "                'Martinique', 'Netherlands Antilles (former)', 'Curacao', \n",
    "                'Faroe Islands', 'French Polynesia', 'Gibraltar', 'Isle of Man', \n",
    "                'Netherlands Antilles (former)', 'New Caledonia', \n",
    "                'Northern Mariana Islands', 'Sint Maarten (Dutch part)', \n",
    "                'St. Martin (French part)','Turks and Caicos Islands', \n",
    "                'French Guiana', 'Réunion', 'Africa', 'Asia', 'Caribbean', \n",
    "                'Central America', 'Central Asia', 'Eastern Africa', 'Eastern Asia', \n",
    "                'Eastern Europe', 'Europe', 'Least developed countries', \n",
    "                'Less developed regions', 'Less developed regions, excluding China', \n",
    "                'Less developed regions, excluding least developed countries', \n",
    "                'Middle Africa', 'More developed regions', 'North Korea', \n",
    "                'Northern Africa', 'Northern America', 'Northern Europe', 'Oceania', \n",
    "                'South America',  'South-Central Asia', 'South-Eastern Asia', \n",
    "                'Southern Africa', 'Southern Asia', 'Southern Europe', 'Western Africa', \n",
    "                'Western Asia', 'Western Europe', 'Western Sahara', 'Guadeloupe', \n",
    "                'Mayotte', 'Melanesia', 'Micronesia (region)', 'Polynesia', \n",
    "                'Reunion', 'Antarctica', 'Bouvet Island', 'British Indian Ocean Territory', \n",
    "                'Christmas Island', 'Cocos [Keeling] Islands', \n",
    "                'U.S. Minor Outlying Islands', 'Vatican City', 'Wallis and Futuna', \n",
    "                'Svalbard and Jan Mayen', 'Saint Helena', 'Gaza Strip', \n",
    "                'Netherlands Antilles', 'Falkland Islands [Islas Malvinas]', \n",
    "                'French Southern Territories', 'Guernsey', 'Norfolk Island', \n",
    "                'Heard Island and McDonald Islands', 'Montserrat', 'Pitcairn Islands', \n",
    "                'Saint Pierre and Miquelon', 'South Georgia and the South Sandwich Islands', \n",
    "                'Tokelau', 'Developing States', 'Very high human development', \n",
    "                'Regions', 'Human Development', 'Arab States','Developing Countries',\n",
    "                'East Asia and the Pacific', 'Europe and Central Asia', \n",
    "                'High human development', 'Latin America and the Caribbean', \n",
    "                'Least Developed Countries', 'Low human development', 'Small Island'\n",
    "                'Medium human development', 'Organization for Economic Co-operation and Development', \n",
    "                'Medium human development', 'Small Island Developing States', \n",
    "                'Saint Helena, Ascension, and Tristan da Cunha', 'Mariana Islands']"
   ]
  },
  {
   "cell_type": "code",
   "execution_count": 0,
   "metadata": {
    "colab": {},
    "colab_type": "code",
    "id": "rOsO4VhpePWn"
   },
   "outputs": [],
   "source": [
    "# This dictionary is used to map country name values across datasets in order to harmonize all observations.\n",
    "\n",
    "country_replace_dict = {\n",
    "                'Bahamas':'Bahamas, The', 'United States of America':'United States', \n",
    "                'Micronesia':'Micronesia, Fed. Sts.', 'Yemen Arab Republic':'Yemen', \n",
    "                'Hong Kong SAR, China':'Hong Kong', 'Macedonia, FYR':'North Macedonia',\n",
    "                'São Tomé and Príncipe':'Sao Tome and Principe', 'Korea, Rep.':'Korea, South',\n",
    "                'Congo-Kinshasa':'Congo, Dem. Rep.', 'Republic of Korea':'Korea, South',\n",
    "                'Congo-Brazzaville':'Congo, Rep.','Macedonia':'North Macedonia',\n",
    "                'Brunei':'Brunei Darussalam','Cape Verde':'Cabo Verde', \n",
    "                'Russian Federation':'Russia','Gambia, The':'Gambia',\n",
    "                'Yemen, Rep.':'Yemen',\"Côte d'Ivoire\":\"Cote d'Ivoire\",\n",
    "                'St. Vincent and Grenadines':'St. Vincent and the Grenadines',\n",
    "                'Egypt, Arab Rep.':'Egypt','Kyrgyz Republic':'Kyrgyzstan',\n",
    "                'Venezuela, RB':'Venezuela','Slovakia':'Slovak Republic',\n",
    "                'Lao PDR':'Laos', 'Syrian Arab Republic':'Syria', \n",
    "                'Korea':'Korea, South', 'German Federal Republic':'Germany', \n",
    "                'Democratic Republic of Congo':'Congo, Dem. Rep.', \n",
    "                'Bosnia-Herzegovina':'Bosnia and Herzegovina', \n",
    "                'Democratic Republic of Vietnam':'Vietnam', 'Congo':'Congo, Rep.',\n",
    "                'Timor-Leste':'East Timor', 'Swaziland':'Eswatini', \n",
    "                \"Democratic People's Republic of Korea\":'Korea, North', \n",
    "                \"Korea, Dem. People’s Rep.\":'Korea, North', 'Korea, Rep.':'Korea, South',\n",
    "                'Macao SAR, China':'Macau', 'Czechia':'Czech Republic',\n",
    "                'Saint Vincent and the Grenadines':'St. Vincent and the Grenadines',\n",
    "                'Korea, North':'Korea, North', 'Korea, Dem. People’s Rep.':'Korea, North', \n",
    "                'Saint Lucia':'St. Lucia', 'Iran, Islamic Rep.':'Iran',\n",
    "                'Congo, Republic of the':'Congo, Rep.', 'eSwatini':'Eswatini',\n",
    "                'Central African Rep.':'Central African Republic',\n",
    "                'Saint Kitts and Nevis':'St. Kitts and Nevis',\n",
    "                'Micronesia, Federated States of':'Micronesia, Fed. Sts.',\n",
    "                'Virgin Islands':'British Virgin Islands', 'Yemen, Rep.':'Yemen',\n",
    "                'Taiwan, China':'Taiwan', 'Korea, Dem. Rep.':'Korea, North',\n",
    "                'São Tomé and Principe':'Sao Tome and Principe',\n",
    "                'Jersey, Channel Islands':'Channel Islands', 'Macao':'Macau', \n",
    "                'Palestinian Territories':'West Bank and Gaza', \n",
    "                'South Korea':'Korea, South', 'Timor':'East Timor', \n",
    "                'Micronesia (country)':'Micronesia, Fed. Sts.', \n",
    "                'Palestine':'West Bank and Gaza', 'Australia/New Zealand':'Australia',\n",
    "                'United States Virgin Islands':'Virgin Islands (U.S.)', \n",
    "                'U.S. Virgin Islands':'Virgin Islands (U.S.)', \n",
    "                'Macedonia [FYROM]':'North Macedonia', 'Jersey':'Channel Islands', \n",
    "                'Congo [DRC]':'Congo, Dem. Rep.', 'Congo [Republic]':'Congo, Rep.', \n",
    "                'Myanmar [Burma]':'Myanmar', 'Viet Nam':'Vietnam', \n",
    "                'Eswatini (Kingdom of)':'Eswatini', 'Moldova (Republic of)':'Moldova',\n",
    "                'Palestine, State of':'West Bank and Gaza', \n",
    "                'Hong Kong, China (SAR)':'Hong Kong', 'Iran (Islamic Republic of)':'Iran', \n",
    "                'Korea (Republic of)':'Korea, South', \"Lao People's Democratic Republic\":\"Laos\", \n",
    "                'Venezuela (Bolivarian Republic of)':'Venezuela', \n",
    "                'Congo (Democratic Republic of the)':'Congo, Dem. Rep.', \n",
    "                'Micronesia (Federated States of)':'Micronesia, Fed. Sts.', \n",
    "                'Bolivia (Plurinational State of)':'Bolivia', \n",
    "                'Tanzania (United Republic of)':'Tanzania', \n",
    "                'Congo, Democratic Republic of the':'Congo, Dem. Rep.'}"
   ]
  },
  {
   "cell_type": "code",
   "execution_count": 0,
   "metadata": {
    "colab": {},
    "colab_type": "code",
    "id": "qEK0XBxKqoqz"
   },
   "outputs": [],
   "source": [
    "# This list of years is used because only the time period between 1996-2018 \n",
    "# is available in the quality of government dataset\n",
    "\n",
    "year_list = list(range(1996, 2002, 2)) + list(range(2002, 2019, 1))"
   ]
  },
  {
   "cell_type": "markdown",
   "metadata": {
    "colab_type": "text",
    "id": "MinVdjZiEsWU"
   },
   "source": [
    "# Import and clearn target dataset"
   ]
  },
  {
   "cell_type": "code",
   "execution_count": 0,
   "metadata": {
    "colab": {},
    "colab_type": "code",
    "id": "XPcKh0HxFUCF"
   },
   "outputs": [],
   "source": [
    "'''\n",
    "Title: Quality of Government\n",
    "Source: The Worldwide Governance Indicators Project\n",
    "Location: http://info.worldbank.org/governance/wgi/\n",
    "Description: \"Governance consists of the traditions and institutions by which \n",
    "authority in a country is exercised.\" ... \"The aggregate indicators are based on \n",
    "several hundred individual underlying variables, taken from a wide variety of \n",
    "existing data sources. The data reflect the views on governance of survey \n",
    "respondents and public, private, and NGO sector experts worldwide.\"\n",
    "'''\n",
    "\n",
    "gov_excel = pd.read_excel(DATA_PATH+'wgidataset.xlsx', \n",
    "                       header=[13,14], \n",
    "                       sheet_name=['VoiceandAccountability',\n",
    "                                   'Political StabilityNoViolence',\n",
    "                                   'GovernmentEffectiveness',\n",
    "                                   'RegulatoryQuality',\n",
    "                                   'RuleofLaw',\n",
    "                                   'ControlofCorruption'])\n",
    "\n",
    "gov = pd.DataFrame(columns=['Country Name', \n",
    "                                   'Year', \n",
    "                                   'Voice and Accountability', \n",
    "                                   'Political Stability No Violence',\n",
    "                                   'Government Effectiveness',\n",
    "                                   'Regulatory Quality',\n",
    "                                   'Rule of Law',\n",
    "                                   'Control of Corruption'])\n",
    "\n",
    "# Inserts data from multiple excel sheets into a single data frame\n",
    "for i in range(0, len(gov_excel['VoiceandAccountability'])):\n",
    "  for year in year_list:\n",
    "    gov = gov.append({'Country Name':gov_excel['VoiceandAccountability'][('Unnamed: 0_level_0','Country/Territory')][i], \n",
    "                    'Year':year,\n",
    "                    'Voice and Accountability':gov_excel['VoiceandAccountability'][(year,'Estimate')][i], \n",
    "                    'Political Stability No Violence':gov_excel['Political StabilityNoViolence'][(year,'Estimate')][i], \n",
    "                    'Government Effectiveness':gov_excel['GovernmentEffectiveness'][(year,'Estimate')][i], \n",
    "                    'Regulatory Quality':gov_excel['RegulatoryQuality'][(year,'Estimate')][i], \n",
    "                    'Rule of Law':gov_excel['RuleofLaw'][(year,'Estimate')][i], \n",
    "                    'Control of Corruption':gov_excel['ControlofCorruption'][(year,'Estimate')][i]}, \n",
    "                    ignore_index=True)\n",
    "    \n",
    "gov['Year'] = pd.to_numeric(gov['Year'])\n",
    "gov = gov[~gov['Country Name'].isin(country_drop_list)]\n",
    "gov['Country Name'] = gov['Country Name'].replace(country_replace_dict)"
   ]
  },
  {
   "cell_type": "markdown",
   "metadata": {
    "colab_type": "text",
    "id": "HJMojyIRFIpY"
   },
   "source": [
    "# Import and clean independent variables"
   ]
  },
  {
   "cell_type": "code",
   "execution_count": 0,
   "metadata": {
    "colab": {},
    "colab_type": "code",
    "id": "E0ek84lfv32t"
   },
   "outputs": [],
   "source": [
    "'''\n",
    "Title: Population, total\n",
    "Source: World Bank\n",
    "Location: https://data.worldbank.org/indicator/SP.POP.TOTL\n",
    "Description: Total population is based on the de facto definition of population, which counts all residents regardless of legal status or citizenship. The values shown are midyear estimates.\n",
    "'''\n",
    "\n",
    "pop = pd.read_csv(DATA_PATH+'pop.csv', header=2)\n",
    "pop = pop.drop(['Country Code', \n",
    "                'Indicator Name', \n",
    "                'Indicator Code', \n",
    "                'Unnamed: 64'], axis=1)\n",
    "\n",
    "pop = pd.melt(pop, id_vars=['Country Name'], var_name='Year', value_name='Total Population')\n",
    "\n",
    "pop['Year'] = pd.to_numeric(pop['Year'])\n",
    "pop = pop[~pop['Country Name'].isin(country_drop_list)]\n",
    "pop['Country Name'] = pop['Country Name'].replace(country_replace_dict)"
   ]
  },
  {
   "cell_type": "code",
   "execution_count": 0,
   "metadata": {
    "colab": {},
    "colab_type": "code",
    "id": "ClXKLNJ9ORfW"
   },
   "outputs": [],
   "source": [
    "'''\n",
    "Title: GDP per capita (current US$)\n",
    "Source: World Bank\n",
    "Location: https://data.worldbank.org/indicator/NY.GDP.PCAP.CD\n",
    "Description: GDP per capita is gross domestic product divided by midyear \n",
    "population. Data are in current U.S. dollars.\"\n",
    "'''\n",
    "\n",
    "gdp = pd.read_csv(DATA_PATH+'gdp.csv', header=2)\n",
    "gdp = gdp.drop(['Country Code', \n",
    "                'Indicator Name', \n",
    "                'Indicator Code', \n",
    "                'Unnamed: 64'], axis=1)\n",
    "\n",
    "gdp = pd.melt(gdp, id_vars=['Country Name'], var_name='Year', value_name='GDP per Capita')\n",
    "\n",
    "gdp['Year'] = pd.to_numeric(gdp['Year'])\n",
    "gdp = gdp[~gdp['Country Name'].isin(country_drop_list)]\n",
    "gdp['Country Name'] = gdp['Country Name'].replace(country_replace_dict)"
   ]
  },
  {
   "cell_type": "code",
   "execution_count": 0,
   "metadata": {
    "colab": {},
    "colab_type": "code",
    "id": "O6U9dFM2f4Fk"
   },
   "outputs": [],
   "source": [
    "'''\n",
    "Title: Gini Coefficient\n",
    "Source: The Standardized World Income Inequality Database.\n",
    "Location: https://fsolt.org/swiid/\n",
    "Description: Gini index of \"inequality in market (pre-tax, pre-transfer) income\n",
    "'''\n",
    "\n",
    "gini = pd.read_csv(DATA_PATH+'gini.csv', header=0)\n",
    "gini = gini[['country', 'year', 'gini_disp']]\n",
    "gini.columns = ['Country Name', 'Year', 'Gini Coefficient']\n",
    "gini = gini[~gini['Country Name'].isin(country_drop_list)]\n",
    "gini['Country Name'] = gini['Country Name'].replace(country_replace_dict)"
   ]
  },
  {
   "cell_type": "code",
   "execution_count": 0,
   "metadata": {
    "colab": {},
    "colab_type": "code",
    "id": "QUP3ZXeP3RjH"
   },
   "outputs": [],
   "source": [
    "'''\n",
    "Title: Ethnic Fractionalization Index\n",
    "Source: Historical Index of Ethnic Fractionalization Dataset\n",
    "Location: https://dataverse.harvard.edu/dataset.xhtml?persistentId=doi:10.7910/DVN/4JQRCL\n",
    "Description: The index \"ranges from 0, when there is no ethnic fractionalization \n",
    "and all individuals are members of the same ethnic group to 1, where each \n",
    "individual belongs to his or her own ethnic group.\"\n",
    "'''\n",
    "\n",
    "hief = pd.read_csv(DATA_PATH+'hief.csv', header=0)\n",
    "hief.columns = ['Country Name', 'Year', 'Ethnic Fractionalization Index']\n",
    "hief = hief[~hief['Country Name'].isin(country_drop_list)]\n",
    "hief['Country Name'] = hief['Country Name'].replace(country_replace_dict)"
   ]
  },
  {
   "cell_type": "code",
   "execution_count": 0,
   "metadata": {
    "colab": {},
    "colab_type": "code",
    "id": "nyNeAS5lefhs"
   },
   "outputs": [],
   "source": [
    "'''\n",
    "Title: Human Capital Index\n",
    "Source: Human Capital Project\n",
    "Location: https://www.worldbank.org/en/publication/human-capital\n",
    "Description: The HCI calculates the contributions of health and education to \n",
    "worker productivity. The final index score ranges from zero to one, and measures \n",
    "the productivity as a future worker of child born todat relative to the benchmark \n",
    "of full health and complete education.\"\n",
    "'''\n",
    "\n",
    "hc_excel = pd.read_excel(DATA_PATH+'humancapital.xlsx', \n",
    "                         header=[0], sheet_name=['HCI - MaleFemale'])\n",
    "hc = hc_excel['HCI - MaleFemale'][['Country Name', 'HUMAN CAPITAL INDEX']].copy()\n",
    "\n",
    "hc = hc[['Country Name', 'Year', 'HUMAN CAPITAL INDEX']]\n",
    "hc.columns = ['Country Name', 'Year', 'Human Capital Index']\n",
    "hc = hc[~hc['Country Name'].isin(country_drop_list)]\n",
    "hc['Country Name'] = hc['Country Name'].replace(country_replace_dict)\n",
    "\n",
    "# Only data for 2018 is available\n",
    "hc['Year'] = 2018"
   ]
  },
  {
   "cell_type": "code",
   "execution_count": 0,
   "metadata": {
    "colab": {},
    "colab_type": "code",
    "id": "0LdLMhZxiaIJ"
   },
   "outputs": [],
   "source": [
    "'''\n",
    "Title: Intentional homicides (per 100,000 people)\n",
    "Source: World Bank\n",
    "Location: https://data.worldbank.org/indicator/VC.IHR.PSRC.P5 \n",
    "Description: Intentional homicides are estimates of unlawful homicides purposely \n",
    "inflicted as a result of domestic disputes, interpersonal violence, violent \n",
    "conflicts over land resources, intergang violence over turf or control, and \n",
    "predatory violence and killing by armed groups.\n",
    "'''\n",
    "\n",
    "homicide = pd.read_csv(DATA_PATH+'homicide.csv', header=2)\n",
    "homicide = homicide.drop(['Country Code', \n",
    "                'Indicator Name', \n",
    "                'Indicator Code', \n",
    "                'Unnamed: 64'], axis=1)\n",
    "\n",
    "homicide = pd.melt(homicide, id_vars=['Country Name'], var_name='Year', value_name='Homicide Rate')\n",
    "\n",
    "homicide['Year'] = pd.to_numeric(homicide['Year'])\n",
    "homicide = homicide[~homicide['Country Name'].isin(country_drop_list)]\n",
    "homicide['Country Name'] = homicide['Country Name'].replace(country_replace_dict)"
   ]
  },
  {
   "cell_type": "code",
   "execution_count": 0,
   "metadata": {
    "colab": {},
    "colab_type": "code",
    "id": "VfGOCzQYmNmJ"
   },
   "outputs": [],
   "source": [
    "'''\n",
    "Title: Life expectancy at birth, total (years)\n",
    "Source: World Bank\n",
    "Location: https://data.worldbank.org/indicator/SP.DYN.LE00.IN\n",
    "Description: \"Life expectancy at birth indicates the number of years a newborn \n",
    "infant would live if prevailing patterns of mortality at the time of its birth \n",
    "were to stay the same throughout its life.\"\n",
    "'''\n",
    "\n",
    "life = pd.read_csv(DATA_PATH+'lifeexpectancy.csv', header=2)\n",
    "life = life.drop(['Country Code', \n",
    "                'Indicator Name', \n",
    "                'Indicator Code',\n",
    "                'Unnamed: 64'], axis=1)\n",
    "\n",
    "life = pd.melt(life, id_vars=['Country Name'], var_name='Year', value_name='Life Expectancy')\n",
    "\n",
    "life['Year'] = pd.to_numeric(life['Year'])\n",
    "life = life[~life['Country Name'].isin(country_drop_list)]\n",
    "life['Country Name'] = life['Country Name'].replace(country_replace_dict)"
   ]
  },
  {
   "cell_type": "code",
   "execution_count": 0,
   "metadata": {
    "colab": {},
    "colab_type": "code",
    "id": "YvUOJiqgwLy8"
   },
   "outputs": [],
   "source": [
    "'''\n",
    "Title: Fertility rate, total (births per woman)\n",
    "Source: World Bank\n",
    "Location: https://data.worldbank.org/indicator/SP.DYN.TFRT.IN\n",
    "Description: Total fertility rate represents the number of children that would \n",
    "be born to a woman if she were to live to the end of her childbearing years and \n",
    "bear children in accordance with age-specific fertility rates of the specified year.\n",
    "'''\n",
    "\n",
    "fertility = pd.read_csv(DATA_PATH+'fertility.csv', header=2)\n",
    "fertility = fertility.drop(['Country Code', \n",
    "                'Indicator Name', \n",
    "                'Indicator Code',\n",
    "                'Unnamed: 64'], axis=1)\n",
    "\n",
    "fertility = pd.melt(fertility, id_vars=['Country Name'], var_name='Year', value_name='Fertility Rate')\n",
    "\n",
    "fertility['Year'] = pd.to_numeric(fertility['Year'])\n",
    "fertility = fertility[~fertility['Country Name'].isin(country_drop_list)]\n",
    "fertility['Country Name'] = fertility['Country Name'].replace(country_replace_dict)"
   ]
  },
  {
   "cell_type": "code",
   "execution_count": 0,
   "metadata": {
    "colab": {},
    "colab_type": "code",
    "id": "4JnW85TG0QKy"
   },
   "outputs": [],
   "source": [
    "'''\n",
    "Title: National IQ Score\n",
    "Source: The National IQ Dataset\n",
    "Location: https://viewoniq.org/\n",
    "Description: National IQ-scores from Lynn & Vanhanen (2012) estimated \n",
    "from psychometric tests only.\n",
    "'''\n",
    "\n",
    "iq = pd.read_excel(DATA_PATH+'intelligence.xlsx', \n",
    "                         header=[1], sheet_name=['FAV'], skipfooter=7)\n",
    "\n",
    "iq = iq[['Unnamed: 1', 'Year', 'L&V12']]\n",
    "iq.columns = ['Country Name', 'Year','National IQ Score']\n",
    "iq = iq[~iq['Country Name'].isin(country_drop_list)]\n",
    "iq['Country Name'] = iq['Country Name'].replace(country_replace_dict)\n",
    "\n",
    "# All national IQ scores are from 2012\n",
    "iq['Year'] = 2012"
   ]
  },
  {
   "cell_type": "code",
   "execution_count": 0,
   "metadata": {
    "colab": {},
    "colab_type": "code",
    "id": "pSdH6yWPHIfa"
   },
   "outputs": [],
   "source": [
    "'''\n",
    "Title: Urban population (% of total population)\n",
    "Source: World Bank\n",
    "Location: https://data.worldbank.org/indicator/sp.urb.totl.in.zs\n",
    "Description: \"Urban population refers to people living in urban areas \n",
    "as defined by national statistical offices.\" \n",
    "'''\n",
    "\n",
    "urban = pd.read_csv(DATA_PATH+'urban.csv', header=2)\n",
    "urban = urban.drop(['Country Code', \n",
    "                'Indicator Name', \n",
    "                'Indicator Code', \n",
    "                'Unnamed: 64'], axis=1)\n",
    "\n",
    "urban = pd.melt(urban, id_vars=['Country Name'], var_name='Year', value_name='Urban Pop. per Capita')\n",
    "\n",
    "urban['Year'] = pd.to_numeric(urban['Year'])\n",
    "urban = urban[~urban['Country Name'].isin(country_drop_list)]\n",
    "urban['Country Name'] = urban['Country Name'].replace(country_replace_dict)"
   ]
  },
  {
   "cell_type": "code",
   "execution_count": 0,
   "metadata": {
    "colab": {},
    "colab_type": "code",
    "id": "rTGeeIi_MuRF"
   },
   "outputs": [],
   "source": [
    "'''\n",
    "Title: Median Age\n",
    "Source: Our World in Data\n",
    "Location: https://ourworldindata.org/grapher/median-age\n",
    "Description: Median Age in Years\n",
    "'''\n",
    "\n",
    "age = pd.read_csv(DATA_PATH+'age.csv', header=0)\n",
    "age = age.drop(['Code'], axis=1)\n",
    "\n",
    "age.columns = ['Country Name', 'Year', 'Median Age']\n",
    "age = age[~age['Country Name'].isin(country_drop_list)]\n",
    "age['Country Name'] = age['Country Name'].replace(country_replace_dict)"
   ]
  },
  {
   "cell_type": "code",
   "execution_count": 0,
   "metadata": {
    "colab": {},
    "colab_type": "code",
    "id": "3d-c9fH9SUfE"
   },
   "outputs": [],
   "source": [
    "'''\n",
    "Title: Inflation, consumer prices (annual %)\n",
    "Source: World Bank\n",
    "Location: https://data.worldbank.org/indicator/FP.CPI.TOTL.ZG\n",
    "Description: Inflation as measured by the consumer price index reflects the \n",
    "annual percentage change in the cost to the average consumer of acquiring a \n",
    "basket of goods and services that may be fixed or changed at specified intervals, \n",
    "such as yearly. The Laspeyres formula is generally used.\"\n",
    "'''\n",
    "\n",
    "inflation = pd.read_csv(DATA_PATH+'inflation.csv', header=2)\n",
    "inflation = inflation.drop(['Country Code', \n",
    "                'Indicator Name', \n",
    "                'Indicator Code',\n",
    "                'Unnamed: 64'], axis=1)\n",
    "\n",
    "inflation = pd.melt(inflation, id_vars=['Country Name'], var_name='Year', value_name='Inflation (CPI)')\n",
    "\n",
    "inflation['Year'] = pd.to_numeric(inflation['Year'])\n",
    "inflation = inflation[~inflation['Country Name'].isin(country_drop_list)]\n",
    "inflation['Country Name'] = inflation['Country Name'].replace(country_replace_dict)"
   ]
  },
  {
   "cell_type": "code",
   "execution_count": 0,
   "metadata": {
    "colab": {},
    "colab_type": "code",
    "id": "qy9Kz_FVZi1S"
   },
   "outputs": [],
   "source": [
    "'''\n",
    "Title: Country Distance from Equator\n",
    "Source: Google\n",
    "Location: https://developers.google.com/public-data/docs/canonical/countries_csv\n",
    "Description: Country distance from equator calculated from country latitude\n",
    "'''\n",
    "\n",
    "equator_initial = pd.read_csv(DATA_PATH+'equator.csv', header=0)\n",
    "\n",
    "# Distance from Equator is calculated as absolute value of Latitude\n",
    "equator_initial['Distance from Equator'] = equator_initial['latitude'].abs()\n",
    "\n",
    "# Inserts each row into an empty data frame 20 times, each time using a different year in year_list \n",
    "equator = pd.DataFrame(columns=['Country Name', 'Year', 'Distance from Equator'])\n",
    "j = 0\n",
    "for i in range(0, equator_initial.shape[0]):\n",
    "  for year in year_list:\n",
    "    equator.loc[j] = [equator_initial['name'][i], year, equator_initial['Distance from Equator'][i]]\n",
    "    j += 1\n",
    "\n",
    "equator['Year'] = pd.to_numeric(equator['Year'])\n",
    "equator = equator[~equator['Country Name'].isin(country_drop_list)]\n",
    "equator['Country Name'] = equator['Country Name'].replace(country_replace_dict)"
   ]
  },
  {
   "cell_type": "code",
   "execution_count": 0,
   "metadata": {
    "colab": {},
    "colab_type": "code",
    "id": "upykFpmqlchl"
   },
   "outputs": [],
   "source": [
    "'''\n",
    "Title: Trade (% of GDP)\n",
    "Source: World Bank\n",
    "Location: https://data.worldbank.org/indicator/NE.TRD.GNFS.ZS\n",
    "Description: \"Trade (% of GDP), Trade is the sum of exports and \n",
    "imports of goods and services measured as a share of gross domestic product.\"\n",
    "'''\n",
    "\n",
    "trade = pd.read_csv(DATA_PATH+'trade.csv', header=2)\n",
    "trade = trade.drop(['Country Code', \n",
    "                'Indicator Name', \n",
    "                'Indicator Code', \n",
    "                'Unnamed: 64'], axis=1)\n",
    "\n",
    "trade = pd.melt(trade, id_vars=['Country Name'], var_name='Year', value_name='Trade (% of GDP)')\n",
    "\n",
    "trade['Year'] = pd.to_numeric(trade['Year'])\n",
    "trade = trade[~trade['Country Name'].isin(country_drop_list)]\n",
    "trade['Country Name'] = trade['Country Name'].replace(country_replace_dict)"
   ]
  },
  {
   "cell_type": "code",
   "execution_count": 0,
   "metadata": {
    "colab": {},
    "colab_type": "code",
    "id": "mGcAMCOhZi4p"
   },
   "outputs": [],
   "source": [
    "'''\n",
    "Title: Gender Development Index (GDI)\n",
    "Source: United Nations Development Programme\n",
    "Location: http://hdr.undp.org/en/content/gender-development-index-gdi\n",
    "Description: \"The GDI measures gender gaps in human development achievements by \n",
    "accounting for disparities between women and men in three basic dimensions of \n",
    "human development—health, knowledge and living standards using the same component \n",
    "indicators as in the HDI. The GDI is the ratio of the HDIs calculated separately \n",
    "for females and males using the same methodology as in the HDI. It is a direct \n",
    "measure of gender gap showing the female HDI as a percentage of the male HDI.\"\n",
    "'''\n",
    "\n",
    "gender = pd.read_csv(DATA_PATH+'gender.csv', na_values='..', skiprows = 0, header=1, \n",
    "                     usecols=['Country', '2000', '2005', '2010', '2011', '2012', \n",
    "                              '2013', '2014', '2015', '2016', '2017', '2018'])\n",
    "\n",
    "gender = pd.melt(gender, id_vars=['Country'], var_name='Year', value_name='Gender Development Index')\n",
    "\n",
    "gender.columns = ['Country Name', 'Year', 'Gender Development Index']\n",
    "gender['Year'] = pd.to_numeric(gender['Year'])\n",
    "gender = gender[~gender['Country Name'].isin(country_drop_list)]\n",
    "gender['Country Name'] = gender['Country Name'].replace(country_replace_dict)"
   ]
  },
  {
   "cell_type": "code",
   "execution_count": 0,
   "metadata": {
    "colab": {},
    "colab_type": "code",
    "id": "HQRMO2DiQL1K"
   },
   "outputs": [],
   "source": [
    "'''\n",
    "Title: General government final consumption expenditure (% of GDP)\n",
    "Source: World Bank\n",
    "Location: https://data.worldbank.org/indicator/NE.CON.GOVT.ZS\n",
    "Description: \n",
    "General government final consumption expenditure (formerly general government \n",
    "consumption) includes all government current expenditures for purchases of goods \n",
    "and services (including compensation of employees). It also includes most \n",
    "expenditures on national defense and security, but excludes government military \n",
    "expenditures that are part of government capital formation.\n",
    "'''\n",
    "\n",
    "expenditure = pd.read_csv(DATA_PATH+'expenditure.csv', header=2)\n",
    "expenditure = expenditure.drop(['Country Code',\n",
    "                                'Indicator Name',\n",
    "                                'Indicator Code',\n",
    "                                'Unnamed: 64'], axis=1)\n",
    "\n",
    "expenditure = pd.melt(expenditure, id_vars=['Country Name'], var_name='Year', value_name='Public Expenditure per Capita')\n",
    "\n",
    "expenditure['Year'] = pd.to_numeric(expenditure['Year'])\n",
    "expenditure = expenditure[~expenditure['Country Name'].isin(country_drop_list)]\n",
    "expenditure['Country Name'] = expenditure['Country Name'].replace(country_replace_dict)"
   ]
  },
  {
   "cell_type": "code",
   "execution_count": 0,
   "metadata": {
    "colab": {},
    "colab_type": "code",
    "id": "LCqew0Y-6hFc"
   },
   "outputs": [],
   "source": [
    "'''\n",
    "Title: Unemployment, total (% of total labor force)\n",
    "Source: World Bank\n",
    "Location: https://data.worldbank.org/indicator/SL.UEM.TOTL.ZS\n",
    "Description: \n",
    "Unemployment refers to the share of the labor force that is without work \n",
    "but available for and seeking employment.\n",
    "'''\n",
    "\n",
    "unemployment = pd.read_csv(DATA_PATH+'unemployment.csv', header=2)\n",
    "unemployment = unemployment.drop(['Country Code',\n",
    "                                'Indicator Name',\n",
    "                                'Indicator Code',\n",
    "                                'Unnamed: 64'], axis=1)\n",
    "\n",
    "unemployment = pd.melt(unemployment, id_vars=['Country Name'], var_name='Year', value_name='Unemployment Rate')\n",
    "\n",
    "unemployment['Year'] = pd.to_numeric(unemployment['Year'])\n",
    "unemployment = unemployment[~unemployment['Country Name'].isin(country_drop_list)]\n",
    "unemployment['Country Name'] = unemployment['Country Name'].replace(country_replace_dict)"
   ]
  },
  {
   "cell_type": "code",
   "execution_count": 0,
   "metadata": {
    "colab": {},
    "colab_type": "code",
    "id": "Sg5aYBkrZh6Q"
   },
   "outputs": [],
   "source": [
    "'''\n",
    "World values survey: Importance in Life: Religion\n",
    "Source: World Values Survey\n",
    "Location: http://www.worldvaluessurvey.org/wvs.jsp via Kaggle: https://www.kaggle.com/fernandol/world-values-survey\n",
    "Description: \n",
    "The WVS consists of nationally representative surveys conducted in almost 100 \n",
    "countries which contain almost 90 percent of the world’s population, using a \n",
    "common questionnaire. The WVS is the largest non-commercial, cross-national, \n",
    "time series investigation of human beliefs and values ever executed, currently \n",
    "including interviews with almost 400,000 respondents. \n",
    "'''\n",
    "\n",
    "values = pd.read_csv(DATA_PATH+'values_data.csv',\n",
    "                          header=0,\n",
    "                          na_values='NA',\n",
    "                          usecols=['Country', 'S020', 'A006'])\n",
    "\n",
    "values.columns = ['Country Name', 'Year', 'Important in life: Religion']\n",
    "values = values[~values['Country Name'].isin(country_drop_list)]\n",
    "values['Country Name'] = values['Country Name'].replace(country_replace_dict)"
   ]
  },
  {
   "cell_type": "code",
   "execution_count": 0,
   "metadata": {
    "colab": {},
    "colab_type": "code",
    "id": "uWOdb3sv_NOa"
   },
   "outputs": [],
   "source": [
    "'''\n",
    "Title: PCT patents, applications/million pop.\n",
    "Source: World Bank\n",
    "Location: https://tcdata360.worldbank.org/indicators/entrp.pct?country=BRA&indicator=3441&viz=line_chart&years=2012,2016\n",
    "Description: Number of applications filed under the Patent Cooperation Treaty (PCT) per million population\n",
    "'''\n",
    "\n",
    "patents = pd.read_csv(DATA_PATH+'patents.csv')\n",
    "\n",
    "mask = (patents['Indicator'] == 'PCT patents, applications/million pop.') & (patents['Subindicator Type'] == 'per million pop.')\n",
    "patents = patents[mask]\n",
    "\n",
    "patents = patents.drop(columns=['Country ISO3', 'Indicator','Indicator Id', 'Subindicator Type'])\n",
    "\n",
    "patents = pd.melt(patents, id_vars=['Country Name'], var_name='Year', value_name='Patents Rate')\n",
    "\n",
    "patents = patents[~patents['Country Name'].isin(country_drop_list)]\n",
    "patents['Country Name'] = patents['Country Name'].replace(country_replace_dict)"
   ]
  },
  {
   "cell_type": "code",
   "execution_count": 0,
   "metadata": {
    "colab": {},
    "colab_type": "code",
    "id": "gKw1WDVfDmDw"
   },
   "outputs": [],
   "source": [
    "'''\n",
    "Title: Human Development Index (HDI)\n",
    "Source: United Nations Development Programme\n",
    "Location: http://hdr.undp.org/en/content/human-development-index-hdi\n",
    "Description: \n",
    "'''\n",
    "\n",
    "HDI = pd.read_csv(DATA_PATH+'HDI.csv',\n",
    "                  skiprows=0,\n",
    "                  header=1,\n",
    "                  na_filter=True)\n",
    "\n",
    "HDI = HDI.rename(columns={'Country':'Country Name'})\n",
    "HDI = HDI.drop(columns='HDI Rank (2018)')\n",
    "\n",
    "i=3\n",
    "for i in range(3, 60, 2):\n",
    "  column = 'Unnamed: ' + str(i)\n",
    "  HDI = HDI.drop(columns=column)\n",
    "\n",
    "HDI = pd.melt(HDI, id_vars=['Country Name'], var_name='Year', value_name='Human Development Index')\n",
    "\n",
    "HDI = HDI[~HDI['Country Name'].isin(country_drop_list)]\n",
    "HDI['Country Name'] = HDI['Country Name'].replace(country_replace_dict)"
   ]
  },
  {
   "cell_type": "code",
   "execution_count": 0,
   "metadata": {
    "colab": {},
    "colab_type": "code",
    "id": "XMwmxRZFFipi"
   },
   "outputs": [],
   "source": [
    "'''\n",
    "Title: Battle Deaths per Capita\n",
    "Source: Peace Research Institute Oslo (PRIO)\n",
    "Location: https://www.prio.org/Data/Armed-Conflict/Battle-Deaths/\n",
    "Description: This project has generated a dataset on battle deaths \n",
    "(number of soldiers and civilians killed in combat) in state-based armed \n",
    "conflicts for the period 1946–2008.\n",
    "Years:\n",
    "Sample Size:\n",
    "'''\n",
    "\n",
    "battle = pd.read_excel(DATA_PATH+'battle.xls',\n",
    "                       sheet_name='bdonly',\n",
    "                       usecols=['location', 'year', 'bdeadbes'],)\n",
    "battle['bdeadbes'] = battle['bdeadbes'].replace(-999, np.NaN)\n",
    "battle = battle[['location', 'year', 'bdeadbes']]\n",
    "battle.columns = ['Country Name', 'Year', 'Annual Battle Death']\n",
    "battle = battle[~battle['Country Name'].isin(country_drop_list)]\n",
    "battle['Country Name'] = battle['Country Name'].replace(country_replace_dict)"
   ]
  },
  {
   "cell_type": "code",
   "execution_count": 0,
   "metadata": {
    "colab": {},
    "colab_type": "code",
    "id": "0rUrZIfWTzqD"
   },
   "outputs": [],
   "source": [
    "'''\n",
    "Title: Legal Tradition\n",
    "Source: Harvard Univesity\n",
    "Location: https://scholar.harvard.edu/shleifer/publications\n",
    "Decription: ABC\n",
    "'''\n",
    "\n",
    "legal_initial = pd.read_excel(DATA_PATH+'legal.xls',\n",
    "                      sheet_name='Table 1',\n",
    "                      usecols=['country', \n",
    "                               'legor_uk', \n",
    "                               'legor_fr', \n",
    "                               'legor_ge', \n",
    "                               'legor_sc',\n",
    "                               'legor_so'],\n",
    "                      skipfooter=17)\n",
    "\n",
    "# Reverse dataset's original one hot encoding\n",
    "legal_initial['Legal Tradition'] = (legal_initial.iloc[:, 1:] == 1).idxmax(1)\n",
    "\n",
    "# Remove initial one hot coding\n",
    "legal_initial = legal_initial.drop(columns=['legor_uk',\n",
    "                                            'legor_fr', \n",
    "                                            'legor_ge', \n",
    "                                            'legor_sc', \n",
    "                                            'legor_so'])\n",
    "\n",
    "# Data Imputation: Inserts each row into an empty data frame 20 times,\n",
    "# each time using a different year in year_list \n",
    "legal = pd.DataFrame(columns=['Country Name', 'Year', 'Legal Tradition'])\n",
    "j = 0\n",
    "for i in range(0, legal_initial.shape[0]):\n",
    "  for year in year_list:\n",
    "    legal.loc[j] = [legal_initial['country'][i], year, legal_initial['Legal Tradition'][i]]\n",
    "    j += 1\n",
    "\n",
    "legal['Year'] = pd.to_numeric(legal['Year'])\n",
    "legal = legal[~legal['Country Name'].isin(country_drop_list)]\n",
    "legal['Country Name'] = legal['Country Name'].replace(country_replace_dict)"
   ]
  },
  {
   "cell_type": "markdown",
   "metadata": {
    "colab_type": "text",
    "id": "UJhW0JN95gr8"
   },
   "source": [
    "# Merge datasets"
   ]
  },
  {
   "cell_type": "code",
   "execution_count": 0,
   "metadata": {
    "colab": {
     "base_uri": "https://localhost:8080/",
     "height": 312
    },
    "colab_type": "code",
    "id": "pW2l6A2K-fSB",
    "outputId": "50116be8-f627-4774-c1db-071d22425c0f"
   },
   "outputs": [
    {
     "name": "stdout",
     "output_type": "stream",
     "text": [
      "(12420, 3)\n",
      "(12420, 4)\n",
      "(12483, 5)\n",
      "(13648, 6)\n",
      "(13648, 7)\n",
      "(13648, 8)\n",
      "(13648, 9)\n",
      "(13648, 10)\n",
      "(13648, 11)\n",
      "(13648, 12)\n",
      "(17157, 13)\n",
      "(17157, 14)\n",
      "(17169, 15)\n",
      "(17169, 16)\n",
      "(17169, 17)\n",
      "(17169, 23)\n"
     ]
    }
   ],
   "source": [
    "dataset_list = [pop, gdp, gini, hief, hc, \n",
    "                homicide, life, fertility, \n",
    "                iq, urban, age, inflation, \n",
    "                equator, trade, gender, \n",
    "                expenditure, gov]\n",
    "\n",
    "df_final = pd.DataFrame(columns=['Country Name', 'Year'])\n",
    "\n",
    "for dataset in dataset_list:\n",
    "  df_final = pd.merge(df_final, dataset, on=['Country Name', 'Year'], how='outer')\n",
    "  print(df_final.shape)"
   ]
  },
  {
   "cell_type": "code",
   "execution_count": 0,
   "metadata": {
    "colab": {
     "base_uri": "https://localhost:8080/",
     "height": 35
    },
    "colab_type": "code",
    "id": "lxgXk-LPKu7P",
    "outputId": "23bcf24c-7a5c-4a0b-881e-248a7275c819"
   },
   "outputs": [
    {
     "data": {
      "text/plain": [
       "(4192, 23)"
      ]
     },
     "execution_count": 26,
     "metadata": {
      "tags": []
     },
     "output_type": "execute_result"
    }
   ],
   "source": [
    "df_final = df_final[df_final['Year'].isin(year_list)]\n",
    "df_final.shape    "
   ]
  },
  {
   "cell_type": "markdown",
   "metadata": {
    "colab_type": "text",
    "id": "riNXF4zhVjaU"
   },
   "source": [
    "# Principle Components Analysis"
   ]
  },
  {
   "cell_type": "code",
   "execution_count": 0,
   "metadata": {
    "colab": {
     "base_uri": "https://localhost:8080/",
     "height": 240
    },
    "colab_type": "code",
    "id": "EBLuA3pFFL_7",
    "outputId": "8ef08316-4c87-4190-fb99-bef9bfbb10e0"
   },
   "outputs": [
    {
     "name": "stdout",
     "output_type": "stream",
     "text": [
      "n_components: 1\n",
      "Explained Variance Ratio: 0.8476984982339038\n",
      "n_components: 2\n",
      "Explained Variance Ratio: 0.9157833311884589\n",
      "n_components: 3\n",
      "Explained Variance Ratio: 0.964145632750213\n",
      "n_components: 4\n",
      "Explained Variance Ratio: 0.9845015623760054\n",
      "n_components: 5\n",
      "Explained Variance Ratio: 0.9925425458824452\n",
      "n_components: 6\n",
      "Explained Variance Ratio: 1.0\n"
     ]
    }
   ],
   "source": [
    "# Principle Components Analysis\n",
    "\n",
    "def PCA_function(df, k):\n",
    "  '''\n",
    "  Function runs PCA analysis and prints results\n",
    "  Argument 1: Data frame object\n",
    "  Argument 2: Number of components to use in PCA\n",
    "  Returns original dataset with its data transformed by PCA \n",
    "  '''\n",
    "\n",
    "  # Drop rows with nan values; otherwise PCA function fails\n",
    "  X = df.dropna()\n",
    "\n",
    "  # Standardize the data\n",
    "  scaler = StandardScaler()\n",
    "  Y = scaler.fit_transform(X)\n",
    "\n",
    "  # Creates instance of PCA with n_components as an argument\n",
    "  pca = PCA(n_components=k)\n",
    "\n",
    "  # Fit_transform on data\n",
    "  Z = pca.fit_transform(Y)\n",
    "\n",
    "  # Print results\n",
    "  print(\"n_components:\", k)\n",
    "  print(\"Sum of Explained Variance Ratios:\", sum(pca.explained_variance_ratio_))\n",
    "\n",
    "  # Return label\n",
    "  return Z\n",
    "\n",
    "# Run PCA analysis with n=1...5 components\n",
    "for i in range(1, 7, 1):\n",
    "  PCA_function(gov.drop(columns=['Country Name', 'Year']), i)"
   ]
  },
  {
   "cell_type": "markdown",
   "metadata": {
    "colab_type": "text",
    "id": "rKz7l-LZCl0m"
   },
   "source": [
    "# Data Analysis"
   ]
  },
  {
   "cell_type": "code",
   "execution_count": 0,
   "metadata": {
    "colab": {
     "base_uri": "https://localhost:8080/",
     "height": 454
    },
    "colab_type": "code",
    "id": "pCDz7eDjR_Hx",
    "outputId": "33008c79-f136-4661-d0a5-1ab0d0d149af"
   },
   "outputs": [
    {
     "data": {
      "text/plain": [
       "Country Name                       1.000000\n",
       "Year                               1.000000\n",
       "Distance from Equator              0.990458\n",
       "Total Population                   0.988788\n",
       "Urban Pop. per Capita              0.984017\n",
       "Rule of Law                        0.978053\n",
       "Voice and Accountability           0.974952\n",
       "Political Stability No Violence    0.967319\n",
       "Control of Corruption              0.964218\n",
       "Government Effectiveness           0.960878\n",
       "Regulatory Quality                 0.960878\n",
       "GDP per Capita                     0.948473\n",
       "Fertility Rate                     0.889074\n",
       "Life Expectancy                    0.886927\n",
       "Trade (% of GDP)                   0.877147\n",
       "Inflation (CPI)                    0.830630\n",
       "Gini Coefficient                   0.669609\n",
       "Homicide Rate                      0.617605\n",
       "Ethnic Fractionalization Index     0.560115\n",
       "Gender Development Index           0.428197\n",
       "Median Age                         0.184876\n",
       "Human Capital Index                0.037452\n",
       "National IQ Score                  0.030773\n",
       "dtype: float64"
      ]
     },
     "execution_count": 78,
     "metadata": {
      "tags": []
     },
     "output_type": "execute_result"
    }
   ],
   "source": [
    "# Calculate the percentage of not-null values in each column\n",
    "\n",
    "(df_final.notna().sum()/df_final.shape[0]).sort_values(ascending=False)"
   ]
  },
  {
   "cell_type": "code",
   "execution_count": 0,
   "metadata": {
    "colab": {},
    "colab_type": "code",
    "id": "h4kcMasop7Aa"
   },
   "outputs": [],
   "source": [
    "# Maximum Likelihood\n",
    "# https://towardsdatascience.com/all-about-missing-data-handling-b94b8b5d2184\n",
    "  Describes my data as missing at random\n",
    "# http://www.statisticalhorizons.com/wp-content/uploads/MissingDataByML.pdf\n",
    "  Prefers ML too\n",
    "# http://imaging.mrc-cbu.cam.ac.uk/statswiki/FAQ/emalgm?action=AttachFile&do=get&target=graham.pdf\n",
    "  Prefers ML"
   ]
  },
  {
   "cell_type": "code",
   "execution_count": 0,
   "metadata": {
    "colab": {},
    "colab_type": "code",
    "id": "CEJLnCVTsUd6"
   },
   "outputs": [],
   "source": [
    "# transform logarithm\n",
    "# https://www.researchgate.net/post/log_transformation_and_standardization_which_should_come_first\n",
    "#   Log first then standardize\n",
    "# Issues: Maximum likelihood and multiple regression both assume sample is drawn from a multivariate normal distribution\n",
    "# Need at aleast normal distribution\n",
    "# https://www.ucl.ac.uk/child-health/short-courses-events/about-statistical-courses/statistics-and-research-methods/chapter-3-content/non\n",
    "#   Method of Tukey's ladder of powers to transform data\n",
    "# https://kenbenoit.net/assets/courses/ME104/logmodels2.pdf\n",
    "# https://stats.stackexchange.com/questions/118373/what-are-the-advantages-of-using-log-gdp-per-capita-versus-simple-gdp-per-capita\n",
    "# https://econbrowser.com/archives/2014/02/use-of-logarithms-in-economics"
   ]
  },
  {
   "cell_type": "code",
   "execution_count": 0,
   "metadata": {
    "colab": {},
    "colab_type": "code",
    "id": "kd3lmxfrr4FM"
   },
   "outputs": [],
   "source": [
    "# MinMaxScaler \n",
    "# https://towardsdatascience.com/scale-standardize-or-normalize-with-scikit-learn-6ccc7d176a02\n",
    "# gung - Reinstate Monica ... https://stats.stackexchange.com/questions/29781/when-conducting-multiple-regression-when-should-you-center-your-predictor-varia"
   ]
  },
  {
   "cell_type": "code",
   "execution_count": 0,
   "metadata": {
    "colab": {},
    "colab_type": "code",
    "id": "K2goij2UvN3R"
   },
   "outputs": [],
   "source": [
    "# permutation importance\n",
    "# https://www.kaggle.com/dansbecker/permutation-importance"
   ]
  }
 ],
 "metadata": {
  "colab": {
   "collapsed_sections": [],
   "include_colab_link": true,
   "name": "quality_of_government.ipynb",
   "provenance": []
  },
  "kernelspec": {
   "display_name": "Python 3",
   "language": "python",
   "name": "python3"
  },
  "language_info": {
   "codemirror_mode": {
    "name": "ipython",
    "version": 3
   },
   "file_extension": ".py",
   "mimetype": "text/x-python",
   "name": "python",
   "nbconvert_exporter": "python",
   "pygments_lexer": "ipython3",
   "version": "3.7.6"
  }
 },
 "nbformat": 4,
 "nbformat_minor": 1
}
